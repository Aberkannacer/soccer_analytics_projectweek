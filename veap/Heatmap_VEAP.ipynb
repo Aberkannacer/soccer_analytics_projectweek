{
 "cells": [
  {
   "cell_type": "markdown",
   "metadata": {},
   "source": [
    "## Step 1: Connection\n",
    "We will fetch data directly from the database."
   ]
  },
  {
   "cell_type": "code",
   "execution_count": null,
   "metadata": {},
   "outputs": [],
   "source": [
    "import os\n",
    "import psycopg2\n",
    "import dotenv\n",
    "\n",
    "dotenv.load_dotenv()\n",
    "\n",
    "def get_connection():\n",
    "    PG_HOST = os.getenv(\"PG_HOST\")\n",
    "    PG_DATABASE = os.getenv(\"PG_DATABASE\")\n",
    "    PG_USER = os.getenv(\"PG_USER\")\n",
    "    PG_PASSWORD = os.getenv(\"PG_PASSWORD\")\n",
    "    PG_PORT = os.getenv(\"PG_PORT\")\n",
    "\n",
    "    conn = psycopg2.connect(\n",
    "        host=PG_HOST,\n",
    "        database=PG_DATABASE,\n",
    "        user=PG_USER,\n",
    "        password=PG_PASSWORD,\n",
    "        port=PG_PORT,\n",
    "        sslmode=\"require\"\n",
    "    )\n",
    "    return conn\n"
   ]
  },
  {
   "cell_type": "markdown",
   "metadata": {},
   "source": [
    "## Step 2: Introduction to VAEP (Valuing Actions by Estimating Probabilities)\n",
    "\n",
    "In this step, we explore the VAEP (Valuing Actions by Estimating Probabilities) framework, which goes beyond traditional statistics like goals and assists. Instead of focusing only on rare events like shots, VAEP evaluates the value of **every on-the-ball action** (passes, dribbles, tackles, etc.) based on how much it increases or decreases the team's chances of scoring and conceding.\n",
    "\n",
    "Each action is scored using machine learning models that analyze the game context and estimate:\n",
    "- **The probability of scoring (Pscores)**\n",
    "- **The probability of conceding (Pconcedes)**\n",
    "\n",
    "The VAEP value of an action is calculated as:\n"
   ]
  },
  {
   "cell_type": "code",
   "execution_count": null,
   "metadata": {},
   "outputs": [
    {
     "ename": "OperationalError",
     "evalue": "connection to server at \"fuji.ucll.be\" (193.190.58.68), port 52425 failed: FATAL:  no pg_hba.conf entry for host \"10.25.137.180\", user \"busit_32\", database \"busit_32\", SSL encryption\n",
     "output_type": "error",
     "traceback": [
      "\u001b[1;31m---------------------------------------------------------------------------\u001b[0m",
      "\u001b[1;31mOperationalError\u001b[0m                          Traceback (most recent call last)",
      "Cell \u001b[1;32mIn[11], line 11\u001b[0m\n\u001b[0;32m      8\u001b[0m \u001b[38;5;28;01mfrom\u001b[39;00m\u001b[38;5;250m \u001b[39m\u001b[38;5;21;01mdb_connection\u001b[39;00m\u001b[38;5;250m \u001b[39m\u001b[38;5;28;01mimport\u001b[39;00m get_connection\n\u001b[0;32m     10\u001b[0m \u001b[38;5;66;03m# Data ophalen uit de database voor de nieuwe game_id\u001b[39;00m\n\u001b[1;32m---> 11\u001b[0m conn \u001b[38;5;241m=\u001b[39m \u001b[43mget_connection\u001b[49m\u001b[43m(\u001b[49m\u001b[43m)\u001b[49m\n\u001b[0;32m     12\u001b[0m query \u001b[38;5;241m=\u001b[39m \u001b[38;5;124m\"\"\"\u001b[39m\n\u001b[0;32m     13\u001b[0m \u001b[38;5;124mSELECT pt.frame_id, pt.timestamp, pt.player_id, pt.x, pt.y,\u001b[39m\n\u001b[0;32m     14\u001b[0m \u001b[38;5;124m       p.jersey_number, p.player_name, p.team_id\u001b[39m\n\u001b[1;32m   (...)\u001b[0m\n\u001b[0;32m     18\u001b[0m \u001b[38;5;124mWHERE pt.game_id = \u001b[39m\u001b[38;5;124m'\u001b[39m\u001b[38;5;124m6gfytd52ib44k8sm0pc8lohzo\u001b[39m\u001b[38;5;124m'\u001b[39m\u001b[38;5;124m;\u001b[39m\n\u001b[0;32m     19\u001b[0m \u001b[38;5;124m\"\"\"\u001b[39m\n\u001b[0;32m     20\u001b[0m tracking_df \u001b[38;5;241m=\u001b[39m pd\u001b[38;5;241m.\u001b[39mread_sql_query(query, conn)\n",
      "File \u001b[1;32mc:\\Users\\aberk\\Documents\\fork\\soccer_analytics_projectweek\\Heatmap_draw\\db_connection.py:14\u001b[0m, in \u001b[0;36mget_connection\u001b[1;34m()\u001b[0m\n\u001b[0;32m     11\u001b[0m PG_PASSWORD \u001b[38;5;241m=\u001b[39m os\u001b[38;5;241m.\u001b[39mgetenv(\u001b[38;5;124m\"\u001b[39m\u001b[38;5;124mPG_PASSWORD\u001b[39m\u001b[38;5;124m\"\u001b[39m)\n\u001b[0;32m     12\u001b[0m PG_PORT \u001b[38;5;241m=\u001b[39m os\u001b[38;5;241m.\u001b[39mgetenv(\u001b[38;5;124m\"\u001b[39m\u001b[38;5;124mPG_PORT\u001b[39m\u001b[38;5;124m\"\u001b[39m)\n\u001b[1;32m---> 14\u001b[0m conn \u001b[38;5;241m=\u001b[39m \u001b[43mpsycopg2\u001b[49m\u001b[38;5;241;43m.\u001b[39;49m\u001b[43mconnect\u001b[49m\u001b[43m(\u001b[49m\n\u001b[0;32m     15\u001b[0m \u001b[43m    \u001b[49m\u001b[43mhost\u001b[49m\u001b[38;5;241;43m=\u001b[39;49m\u001b[43mPG_HOST\u001b[49m\u001b[43m,\u001b[49m\n\u001b[0;32m     16\u001b[0m \u001b[43m    \u001b[49m\u001b[43mdatabase\u001b[49m\u001b[38;5;241;43m=\u001b[39;49m\u001b[43mPG_DATABASE\u001b[49m\u001b[43m,\u001b[49m\n\u001b[0;32m     17\u001b[0m \u001b[43m    \u001b[49m\u001b[43muser\u001b[49m\u001b[38;5;241;43m=\u001b[39;49m\u001b[43mPG_USER\u001b[49m\u001b[43m,\u001b[49m\n\u001b[0;32m     18\u001b[0m \u001b[43m    \u001b[49m\u001b[43mpassword\u001b[49m\u001b[38;5;241;43m=\u001b[39;49m\u001b[43mPG_PASSWORD\u001b[49m\u001b[43m,\u001b[49m\n\u001b[0;32m     19\u001b[0m \u001b[43m    \u001b[49m\u001b[43mport\u001b[49m\u001b[38;5;241;43m=\u001b[39;49m\u001b[43mPG_PORT\u001b[49m\u001b[43m,\u001b[49m\n\u001b[0;32m     20\u001b[0m \u001b[43m    \u001b[49m\u001b[43msslmode\u001b[49m\u001b[38;5;241;43m=\u001b[39;49m\u001b[38;5;124;43m\"\u001b[39;49m\u001b[38;5;124;43mrequire\u001b[39;49m\u001b[38;5;124;43m\"\u001b[39;49m\n\u001b[0;32m     21\u001b[0m \u001b[43m\u001b[49m\u001b[43m)\u001b[49m\n\u001b[0;32m     22\u001b[0m \u001b[38;5;28;01mreturn\u001b[39;00m conn\n",
      "File \u001b[1;32mc:\\Users\\aberk\\Documents\\fork\\soccer_analytics_projectweek\\.venv\\Lib\\site-packages\\psycopg2\\__init__.py:122\u001b[0m, in \u001b[0;36mconnect\u001b[1;34m(dsn, connection_factory, cursor_factory, **kwargs)\u001b[0m\n\u001b[0;32m    119\u001b[0m     kwasync[\u001b[38;5;124m'\u001b[39m\u001b[38;5;124masync_\u001b[39m\u001b[38;5;124m'\u001b[39m] \u001b[38;5;241m=\u001b[39m kwargs\u001b[38;5;241m.\u001b[39mpop(\u001b[38;5;124m'\u001b[39m\u001b[38;5;124masync_\u001b[39m\u001b[38;5;124m'\u001b[39m)\n\u001b[0;32m    121\u001b[0m dsn \u001b[38;5;241m=\u001b[39m _ext\u001b[38;5;241m.\u001b[39mmake_dsn(dsn, \u001b[38;5;241m*\u001b[39m\u001b[38;5;241m*\u001b[39mkwargs)\n\u001b[1;32m--> 122\u001b[0m conn \u001b[38;5;241m=\u001b[39m \u001b[43m_connect\u001b[49m\u001b[43m(\u001b[49m\u001b[43mdsn\u001b[49m\u001b[43m,\u001b[49m\u001b[43m \u001b[49m\u001b[43mconnection_factory\u001b[49m\u001b[38;5;241;43m=\u001b[39;49m\u001b[43mconnection_factory\u001b[49m\u001b[43m,\u001b[49m\u001b[43m \u001b[49m\u001b[38;5;241;43m*\u001b[39;49m\u001b[38;5;241;43m*\u001b[39;49m\u001b[43mkwasync\u001b[49m\u001b[43m)\u001b[49m\n\u001b[0;32m    123\u001b[0m \u001b[38;5;28;01mif\u001b[39;00m cursor_factory \u001b[38;5;129;01mis\u001b[39;00m \u001b[38;5;129;01mnot\u001b[39;00m \u001b[38;5;28;01mNone\u001b[39;00m:\n\u001b[0;32m    124\u001b[0m     conn\u001b[38;5;241m.\u001b[39mcursor_factory \u001b[38;5;241m=\u001b[39m cursor_factory\n",
      "\u001b[1;31mOperationalError\u001b[0m: connection to server at \"fuji.ucll.be\" (193.190.58.68), port 52425 failed: FATAL:  no pg_hba.conf entry for host \"10.25.137.180\", user \"busit_32\", database \"busit_32\", SSL encryption\n"
     ]
    }
   ],
   "source": [
    "import pandas as pd\n",
    "import matplotlib.pyplot as plt\n",
    "\n",
    "# Simuleer VAEP-scores voor B. Mechele per matchresultaat\n",
    "data = {\n",
    "    'Match Result': ['Win', 'Draw', 'Loss'],\n",
    "    'VAEP Score': [0.45, 0.28, -0.12]  # voorbeeldwaarden – vervang door echte scores\n",
    "}\n",
    "\n",
    "df = pd.DataFrame(data)\n",
    "\n",
    "# Plot\n",
    "fig, ax = plt.subplots(figsize=(8, 5))\n",
    "bars = ax.bar(df['Match Result'], df['VAEP Score'], color=['green', 'orange', 'red'])\n",
    "\n",
    "# Voeg labels toe boven de balken\n",
    "for bar in bars:\n",
    "    height = bar.get_height()\n",
    "    ax.annotate(f'{height:.2f}',\n",
    "                xy=(bar.get_x() + bar.get_width() / 2, height),\n",
    "                xytext=(0, 5 if height >= 0 else -15),\n",
    "                textcoords='offset points',\n",
    "                ha='center', va='bottom' if height >= 0 else 'top',\n",
    "                fontsize=10, color='black')\n",
    "\n",
    "# Titels en labels\n",
    "ax.set_title('B. Mechele - VAEP Score per Match Result', fontsize=14)\n",
    "ax.set_ylabel('VAEP Score')\n",
    "ax.set_ylim(-0.2, 0.6)\n",
    "plt.grid(axis='y', linestyle='--', alpha=0.5)\n",
    "\n",
    "plt.tight_layout()\n",
    "plt.show()\n"
   ]
  }
 ],
 "metadata": {
  "kernelspec": {
   "display_name": ".venv",
   "language": "python",
   "name": "python3"
  },
  "language_info": {
   "codemirror_mode": {
    "name": "ipython",
    "version": 3
   },
   "file_extension": ".py",
   "mimetype": "text/x-python",
   "name": "python",
   "nbconvert_exporter": "python",
   "pygments_lexer": "ipython3",
   "version": "undefined.undefined.undefined"
  }
 },
 "nbformat": 4,
 "nbformat_minor": 2
}
